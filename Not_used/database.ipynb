{
 "cells": [
  {
   "cell_type": "code",
   "execution_count": 2,
   "id": "01000696",
   "metadata": {},
   "outputs": [],
   "source": [
    "import sqlite3\n",
    "database = 'database files/vor_shelves.db'"
   ]
  },
  {
   "cell_type": "code",
   "execution_count": 5,
   "id": "e321e755",
   "metadata": {},
   "outputs": [],
   "source": [
    "connection = sqlite3.connect(database)\n",
    "\n",
    "    # Create a cursor instance\n",
    "cursor = connection.cursor()\n",
    "with connection:\n",
    "    cursor.execute(\"SELECT * FROM albums \")\n",
    "    records = cursor.fetchall()\n",
    "            # Add our data to the screen\n",
    "    global count\n",
    "    count = 0"
   ]
  },
  {
   "cell_type": "code",
   "execution_count": 7,
   "id": "705feca0",
   "metadata": {},
   "outputs": [
    {
     "data": {
      "text/plain": [
       "('SMALL TOOLS',\n",
       " 'GN034',\n",
       " 'CS251254',\n",
       " 'Pull Cord',\n",
       " 'CHARLIE MILLER',\n",
       " '02/03/2020')"
      ]
     },
     "execution_count": 7,
     "metadata": {},
     "output_type": "execute_result"
    }
   ],
   "source": [
    "records[1]"
   ]
  },
  {
   "cell_type": "code",
   "execution_count": null,
   "id": "d79bed8f",
   "metadata": {},
   "outputs": [],
   "source": [
    "def create_new_database(database, data):\n",
    "    conn = sqlite3.connect(database)\n",
    "    # Create a cursor instance\n",
    "    c = conn.cursor()\n",
    "    # Create Table\n",
    "    c.execute(\"\"\"CREATE TABLE if not exists vor_shelves_data (\n",
    "    \tfleet_number text,\n",
    "    \tdescription text,\n",
    "    \tdate date,\n",
    "    \tstatus text)\n",
    "    \t\"\"\")\n",
    "    # Add dummy data to table\n",
    "    # '''\n",
    "    for record in data:\n",
    "        c.execute(\n",
    "            \"INSERT INTO fleet_parts_data VALUES (:fleet_number, :description,:date, :status)\",\n",
    "            {\n",
    "                'fleet_number': record[0],\n",
    "                #'part_number': record[1],\n",
    "                'description': record[2],\n",
    "                #'job_number': record[3],\n",
    "                #'requested_by': record[4],\n",
    "                'date': record[5],\n",
    "                #'accumulated_days': record[6]\n",
    "            }\n",
    "        )\n",
    "    # '''\n",
    "\n",
    "    # Commit changes\n",
    "    conn.commit()\n",
    "    # Close our connection\n",
    "    conn.close()"
   ]
  }
 ],
 "metadata": {
  "kernelspec": {
   "display_name": "Python 3 (ipykernel)",
   "language": "python",
   "name": "python3"
  },
  "language_info": {
   "codemirror_mode": {
    "name": "ipython",
    "version": 3
   },
   "file_extension": ".py",
   "mimetype": "text/x-python",
   "name": "python",
   "nbconvert_exporter": "python",
   "pygments_lexer": "ipython3",
   "version": "3.10.9"
  }
 },
 "nbformat": 4,
 "nbformat_minor": 5
}
